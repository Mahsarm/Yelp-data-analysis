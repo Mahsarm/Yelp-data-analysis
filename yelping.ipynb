{
 "cells": [
  {
   "cell_type": "code",
   "execution_count": 1,
   "metadata": {},
   "outputs": [],
   "source": [
    "import numpy as np\n",
    "import pandas as pd\n",
    "from  urlparse import urljoin \n",
    "import requests \n",
    "import bs4 as bs\n",
    "from urllib2 import urlopen as req \n",
    "import sqlite3 as sql\n",
    "import re\n",
    "from datetime import datetime\n",
    "from __future__ import unicode_literals"
   ]
  },
  {
   "cell_type": "code",
   "execution_count": 2,
   "metadata": {},
   "outputs": [
    {
     "data": {
      "text/plain": [
       "<sqlite3.Cursor at 0x7f58059c6420>"
      ]
     },
     "execution_count": 2,
     "metadata": {},
     "output_type": "execute_result"
    }
   ],
   "source": [
    "conn = sql.connect('data.db')\n",
    "c = conn.cursor()\n",
    "\n",
    "c.execute(\"CREATE TABLE IF NOT EXISTS URLs (url text)\")\n",
    "\n",
    "c.execute(\"CREATE TABLE IF NOT EXISTS reviews (name text, review text)\")"
   ]
  },
  {
   "cell_type": "code",
   "execution_count": 3,
   "metadata": {},
   "outputs": [
    {
     "data": {
      "text/plain": [
       "['/adredir?ad_business_id=wwmQOdLGXkU0TevmN1fWXg&campaign_id=BY989BOWgbfbBVUFMI1BUQ&click_origin=search_results&placement=above_search&redirect_url=https%3A%2F%2Fwww.yelp.com%2Fbiz%2Fatami-sushi-hamilton&request_id=6edf38b8095c138b&signature=2b97f96bbb21762add39d45de264321a2b7097c591bf6038e6d9eda43aefb21b&slot=0',\n",
       " '/biz/rapscallion-rogue-eatery-hamilton?osq=Restaurants',\n",
       " '/biz/earth-to-table-bread-bar-hamilton?osq=Restaurants',\n",
       " '/biz/charred-chicken-hamilton?osq=Restaurants',\n",
       " '/biz/the-ship-hamilton?osq=Restaurants',\n",
       " '/biz/aberdeen-tavern-hamilton-2?osq=Restaurants',\n",
       " '/biz/mezcal-tacos-and-tequila-hamilton?osq=Restaurants',\n",
       " '/biz/fsh-and-chp-hamilton?osq=Restaurants',\n",
       " '/biz/berkeley-north-hamilton-2?osq=Restaurants',\n",
       " '/biz/541-eatery-and-exchange-hamilton?osq=Restaurants']"
      ]
     },
     "execution_count": 3,
     "metadata": {},
     "output_type": "execute_result"
    }
   ],
   "source": [
    "end_point = \"https://www.yelp.com/search?\"\n",
    "search_term = \"Restaurants\"\n",
    "city = \"Hamilton\"\n",
    "province = \"ON\"\n",
    "country = \"Canada\"\n",
    "sorting = \"rating\"\n",
    "businesses = []\n",
    "\n",
    "#print(datetime.now())\n",
    "\n",
    "for page_number in range(0,91, 10):\n",
    "\n",
    "    listing_url = (end_point + \"find_desc=\" + search_term + \"&find_loc=\" + city + \",+\" + province + \",+\" + country\n",
    "    + \"&start=\" + str(page_number)  )\n",
    "    \n",
    "    source = req(listing_url)\n",
    "    soup = bs.BeautifulSoup(source ,'lxml') \n",
    "    businesses += soup.find_all('a', {'class': 'biz-name'})\n",
    "    \n",
    "links = [link['href'] for link in businesses]\n",
    "\n",
    "links[:10]\n",
    "\n",
    "#print(datetime.now())\n",
    "    \n",
    "    "
   ]
  },
  {
   "cell_type": "code",
   "execution_count": 4,
   "metadata": {},
   "outputs": [],
   "source": [
    "regex = re.compile(\"^/adredir\")\n",
    "business_links = [i for i in links if not regex.search(i)]\n"
   ]
  },
  {
   "cell_type": "code",
   "execution_count": 5,
   "metadata": {},
   "outputs": [
    {
     "data": {
      "text/plain": [
       "u'rapscallion rogue eatery  '"
      ]
     },
     "execution_count": 5,
     "metadata": {},
     "output_type": "execute_result"
    }
   ],
   "source": [
    "business_links[0].split('?')[0].split('/')[-1].replace(\"-\", \" \").replace(\"hamilton\", \" \")"
   ]
  },
  {
   "cell_type": "code",
   "execution_count": 6,
   "metadata": {
    "collapsed": true
   },
   "outputs": [],
   "source": [
    "c.execute(\"INSERT INTO URLs (url) VALUES ('{}')\".format(\"'), ('\".join(business_links)))\n",
    "conn.commit()"
   ]
  },
  {
   "cell_type": "code",
   "execution_count": 7,
   "metadata": {},
   "outputs": [
    {
     "data": {
      "text/plain": [
       "[u'/biz/rapscallion-rogue-eatery-hamilton?osq=Restaurants',\n",
       " u'/biz/earth-to-table-bread-bar-hamilton?osq=Restaurants',\n",
       " u'/biz/charred-chicken-hamilton?osq=Restaurants',\n",
       " u'/biz/the-ship-hamilton?osq=Restaurants',\n",
       " u'/biz/aberdeen-tavern-hamilton-2?osq=Restaurants',\n",
       " u'/biz/mezcal-tacos-and-tequila-hamilton?osq=Restaurants',\n",
       " u'/biz/fsh-and-chp-hamilton?osq=Restaurants',\n",
       " u'/biz/berkeley-north-hamilton-2?osq=Restaurants',\n",
       " u'/biz/541-eatery-and-exchange-hamilton?osq=Restaurants',\n",
       " u'/biz/pokeh-hamilton?osq=Restaurants']"
      ]
     },
     "execution_count": 7,
     "metadata": {},
     "output_type": "execute_result"
    }
   ],
   "source": [
    "res = conn.execute(\"SELECT * FROM URLs\")\n",
    "restaurants = [_[0] for _ in res.fetchall()]\n",
    "restaurants[0:10]"
   ]
  },
  {
   "cell_type": "code",
   "execution_count": 8,
   "metadata": {},
   "outputs": [],
   "source": [
    "review_divs = []\n",
    "for restaurant in restaurants:\n",
    "\n",
    "    source = req('https://www.yelp.com/' + restaurant)\n",
    "    soup = bs.BeautifulSoup(source ,'lxml') \n",
    "    review_divs = soup.find_all('div', {'class': 'review-content'})\n",
    "    name = soup.find_all('h1', {'class': 'biz-page-title'})[0].text.strip()\n",
    "    reviews = [review.find_all('p')[0].text for review in review_divs]\n",
    "    \n",
    "#     print('INSERT INTO reviews (name, review) VALUES {}, \"{}\")'.format(\n",
    "#         '(\"' + name + '\"' ,\n",
    "#         (( '\"),(\"' + name + '\",\"').join(\n",
    "#             reviews))))\n",
    "\n",
    "    c.executemany('INSERT INTO reviews (name, review) VALUES (?,?)', zip([name]*len(reviews), reviews))\n",
    "    conn.commit()\n"
   ]
  },
  {
   "cell_type": "code",
   "execution_count": 9,
   "metadata": {},
   "outputs": [
    {
     "data": {
      "text/plain": [
       "[(u'Rapscallion Rogue Eatery',\n",
       "  u\"Honestly, I had driven by this place about a million times on my route to work, and walked by it probably a hundred more during my forays to Augusta. It wasn't until my friend suggested it for a ladies' night that I started reading the reviews and figured we could try it - especially as they had a special that night for four plates, two glasses of wine, and a dessert for $69.After reading the reviews, I decided that the bone marrow was definitely happening. I'd never had it before, and, really, how often do you get to actually experience gooey meat jam? Reservation in hand, off we went. And seriously? Holy effing hell. Each bite was incredibly flavourful, cooked perfectly, and you can tell that they put some serious thought and effort into each dish because they are wonderfully balanced. The menu does rotate, so that is something to keep in mind in case you want to try something specific that has been reviewed, but each thing is amazing. Also, trust your server. He's actually the owner, and he knows everything about each dish and wine. I trusted him to choose the fifth dish as well as my wine for the evening with the simple note that I don't like wines that are too dry, and that man made the evening - even keeping the restaurant open a bit later than usual because Friend and I were having such a lovely time.For posterity, we had the ox tongue, liver brulee, lamb tart, steak tartare, and, of course, the bone marrow. I kid you not, we literally stopped talking once each dish arrived so that we could fully savour the flavours and textures - it is THAT good. So good, in fact, that when I got home and told Boyfriend about each dish, he started drooling. As such, Boyfriend and I will be celebrating our anniversary there come January so he can experience it as well.Cannot recommend highly enough!\"),\n",
       " (u'Rapscallion Rogue Eatery',\n",
       "  u\"I found this gem through Yelp while my bf and I were in Hamilton for an anniversary trip getaway. He had told me that he was letting me pick and from looking at the reviews I had my mind decided to go here. Being foodies from Toronto, we usually scan the place from the outside to see if it looks like an ideal spot to try... and well once we got to the spot, it looked sketchy from the outside and my bf was a bit hesitant to go in. I told him looks can be deceiving however and that I was keen that the review on the place were truthful. So we went in....And we were shocked to hear that the spot was booked out, and we were lucky to get the last two seats at a high table. Coming into the resturant and sitting down, my bf got excited as he read the menu. Our server was extra nice as she made reccomendations of what we may be intrested in as well as offering us ideas of their craft beer, she always came by to check up on us and was always awesome in coming to explain our dishes as she brought them to our table. My bf and I ended up getting the creamed corn, stuffed quail, oxtail ragu, chef's choice of charcuterie, bone marrow and we enjoyed every dish. My bf was quite pleased that we stumbled upon this spot to celebrate our anniversary and was happy I convinced him to give it a try. I highly recommend this place if you're near by as you get awesome food for awesome prices!\"),\n",
       " (u'Rapscallion Rogue Eatery',\n",
       "  u'Absolutly an amazing meal we had! Service was top notch and the food wow! Ok going by memory here and not referring back to menu so if i get some incorrect names or spelling please forgive!Chicken liver brule 5/5 to die for!Beef cheeks 4.5/5 only CRITIQUE was the \"au jus\" was thicker than au jus should be called gravy and could have used solash more for coverageCheese marsela 4.5/5. 1 of the ones i cant remember name or spell.. Oxtail ragu 5/5. Another to die forPork belly flap jacks 4/5. All the flavour but was a little tough and slightly chewy or would have been 5/5Charcuterie 4.5/5. House made terrine was my fav!House made bread 5/5! Perfect! Sliced into perfect little tea spoon sized slices to get all that left over goodness on a plate and pop in your mouth!Service 5/5.We ate too much but it was worth it! Great night out!!'),\n",
       " (u'Rapscallion Rogue Eatery',\n",
       "  u\"This place was great. It doesn't look like much from the outside and the decor presents as a bit hole-in-the wall. The service was amazing the server was so funny and personable. It is a tapas style place offering small bites that range from $7-$16 each. On Tuesday's they have a two can dine for $69 which seemed like a good deal and included wine and dessert. I had duck confit with pav\\xe9, asparagus with lemon and tarragon, pickerel, and pork belly with flap jacks. The presentation on all the dishes was perfect and the food was well seasoned. The only disappointment was the chocolate bar dessert the presentation was nice but the flavours: mango, raspberry and crumbled bacon were mostly drowned out by the rich chocolate taste. Such a great find!\"),\n",
       " (u'Rapscallion Rogue Eatery',\n",
       "  u\"Amazing staff who are generally pretty helpful with menu suggestions. I'd say this type of cuisine is for the more adventurous in terms of different meat offerings - rabbit, beef cheek, etc. Although it is diverse, the pairings are done well and are very savoury. The liver creme brulee was my favorite - couldn't get enough of that! The pork belly pancake was also soo delicious! Everything is made to share, unless of course coming alone. Space is quite small so it's recommended to make reservations.\"),\n",
       " (u'Rapscallion Rogue Eatery',\n",
       "  u\"Came to Hamilton for a concert so figured we might as well find a nice restaurant to dine, tumbled over this Tapa place. I liked the atmosphere of the restaurant, the menu was all written on the chalkboard wall - apparently they change their menu all the time. Chicken liver Brule ($6)This evergreen menu item was to drool for. At first I was skeptical, but it actually tasted really good - foie gras lovers would understand. The sugar/brule part on top added a nice sweetness to the heavy chicken liver flavor giving it a sweet and savory taste. It was delicious. I was shy to ask for more bread for the spread, but thankfully their servers were attentive and offered more bread without asking.The Best Grilled Cheese ($12)This name doesn't disappoint. At first my thoughts were, how good can a grilled cheese sandwich be. It was melted brie cheese with pork shoulder, sandwiched with sweet onion jam. It tasted bomb! I love how they were generous with the pork portion, I was only expecting a small piece but it was a decent cut. The sweet onion jam was the game changer, which went perfectly well with the brie cheese melt. Flavors were on point, delicious!!At this point, the restaurant was totally meeting it's 5 star rating. I was really satisfied with the first two dishes and the service was really good. The next two dishes were slightly disappointing, but I feel it was only because we were set with such high expectations from the first two dishes.Beef Cheeks ($16)I think this was a personal preference, but I wasn't feeling the beef cheeks. The meat had a really strong heavy beef flavor, but I know it's the flavor of how that part of the meat should taste like. The mushroom lasagna underneath was amazing though! It was full of chunks of mushroom layers and the pasta layer wasn't too soft and soggy.Lambda, Lambda, Lambda ($18)3 Lambdas meaning 3 pieces of lamb parts on a plate (lamb leg, lamb belly, and lamb shoulder), served with tomatoes. I typically enjoy lamb, but not sure why I wasn't feeling too strong for the lamb leg - the meat was slightly tough. The lamb belly at the bottom was really good though, probably because of the piece of fat adding a soft and melty texture along with the meat. I liked Dijon mustard with seeds spread on top - the flavor went well with the lamb belly. Overall the dish was still delicious.Service was outstanding, the staff was really attentive and knowledgeable of the menu. My cup was always full, and that means a lot because I drink a lot of water and at any restaurant I always have to ask for more. But here, I didn't even have to wait till my cup was entirely empty for it to be filled too. Should I also mention there were only 2 servers for the night?\"),\n",
       " (u'Rapscallion Rogue Eatery',\n",
       "  u\"Small place so make a reservation. Great deal on Tuesday with 4 plates, 2 drinks, and a dessert for $69. Plates ranged from $10-19 dollars, and about 2 per person is a good meal. Menu is on the chalkboard and always changes. The day we were there we had lamb with scalloped potatoes, rabbit with risotto, flapjacks with pork belly and foie gras, and bone marrow. Everything was so rich and delicious. Definitely not the place for diet food! Flapjacks and bone marrow were the highlight of the meal. Food was too notch. Loved everything. Down to earth place with unbelievable food. If you're on the fence, just go try it, and try something outside of your comfort zone. That's what makes it fun.\"),\n",
       " (u'Rapscallion Rogue Eatery',\n",
       "  u\"Awesome service, followed the recommendations of the gentleman serving us and loved all 3 plates as well as the suggested wine. \\xa0We had the charcuterie, some haloumi masala and a beef cheek mushroom lasagna that I loved. Although it was tapas style, the portions were substantial enough that 3 of them filled the two of us up completely. \\xa0The bread pudding was delicious for dessert!We were able to sit in the nook area which is like a little room off to the side with a window to the restaurant. \\xa0There was quite a large party in the main part of the restaurant but we had attentive service the whole time. \\xa0It was a pleasure. I can't wait to come back and try more of the menu!\"),\n",
       " (u'Rapscallion Rogue Eatery',\n",
       "  u\"Wow best meal ever! We ordered 5 dishes + 2 desserts and all of them were amazing!The best grilled cheese sandwich is a must and was our table's unanimous vote for best dish. It was so good we almost ordered another one for dessert!!Also, my husband ordered a Moscow mule to drink and the wait staff went out to buy what was needed to provide that for him. The restaurant is small so I would recommend making reservations. Amazing...this restaurant has my heart and I am already sad to be leaving the area to go back home in a few days.\"),\n",
       " (u'Rapscallion Rogue Eatery',\n",
       "  u'Very trendy with artisan food. You have to try the best grilled cheese because it actually is the best grilled cheese I have ever had. The staff are very engaging and accommodating. A reservation is strongly recommended but they have squeezed me in without one')]"
      ]
     },
     "execution_count": 9,
     "metadata": {},
     "output_type": "execute_result"
    }
   ],
   "source": [
    "result = conn.execute(\"SELECT * FROM reviews\")\n",
    "rev = [_ for _ in result.fetchall()]\n",
    "len(rev)\n",
    "rev[0:10]"
   ]
  },
  {
   "cell_type": "code",
   "execution_count": null,
   "metadata": {
    "collapsed": true
   },
   "outputs": [],
   "source": []
  }
 ],
 "metadata": {
  "kernelspec": {
   "display_name": "Python 2",
   "language": "python",
   "name": "python2"
  },
  "language_info": {
   "codemirror_mode": {
    "name": "ipython",
    "version": 2
   },
   "file_extension": ".py",
   "mimetype": "text/x-python",
   "name": "python",
   "nbconvert_exporter": "python",
   "pygments_lexer": "ipython2",
   "version": "2.7.12"
  }
 },
 "nbformat": 4,
 "nbformat_minor": 2
}
